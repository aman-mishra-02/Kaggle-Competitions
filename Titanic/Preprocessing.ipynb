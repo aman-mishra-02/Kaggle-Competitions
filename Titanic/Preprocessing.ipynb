{
 "cells": [
  {
   "cell_type": "code",
   "execution_count": 1,
   "metadata": {},
   "outputs": [],
   "source": [
    "import numpy as np\n",
    "from sklearn import preprocessing \n",
    "import tensorflow as tf\n",
    "\n",
    "raw_csv_data = np.loadtxt('train.csv', delimiter=',')\n",
    "\n",
    "unscaled_inputs_all = raw_csv_data[:,1:-1]\n",
    "targets_all = raw_csv_data[:,-1]"
   ]
  },
  {
   "cell_type": "code",
   "execution_count": 2,
   "metadata": {},
   "outputs": [],
   "source": [
    "shuffled_indices = np.arange(unscaled_inputs_all.shape[0])\n",
    "np.random.shuffle(shuffled_indices)\n",
    "\n",
    "unscaled_inputs_all = unscaled_inputs_all[shuffled_indices]\n",
    "targets_all = targets_all[shuffled_indices]"
   ]
  },
  {
   "cell_type": "code",
   "execution_count": 3,
   "metadata": {},
   "outputs": [],
   "source": [
    "\n",
    "unscaled_inputs_equal_priors = unscaled_inputs_all\n",
    "targets_equal_priors = targets_all"
   ]
  },
  {
   "cell_type": "code",
   "execution_count": 4,
   "metadata": {},
   "outputs": [],
   "source": [
    "scaled_inputs = preprocessing.scale(unscaled_inputs_equal_priors)"
   ]
  },
  {
   "cell_type": "code",
   "execution_count": 5,
   "metadata": {},
   "outputs": [],
   "source": [
    "shuffled_indices = np.arange(scaled_inputs.shape[0])\n",
    "np.random.shuffle(shuffled_indices)\n",
    "\n",
    "shuffled_inputs = scaled_inputs[shuffled_indices]\n",
    "shuffled_targets = targets_equal_priors[shuffled_indices]"
   ]
  },
  {
   "cell_type": "code",
   "execution_count": 6,
   "metadata": {},
   "outputs": [
    {
     "name": "stdout",
     "output_type": "stream",
     "text": [
      "307.0 801 0.383270911360799\n",
      "35.0 90 0.3888888888888889\n"
     ]
    }
   ],
   "source": [
    "train_data_size = int(0.9*shuffled_inputs.shape[0])\n",
    "validation_data_size = shuffled_inputs.shape[0] - train_data_size\n",
    "\n",
    "tarin_inputs = shuffled_inputs[:train_data_size]\n",
    "validation_inputs = shuffled_inputs[train_data_size:]\n",
    "\n",
    "train_targets = shuffled_targets[:train_data_size]\n",
    "validation_targets = shuffled_targets[train_data_size:]\n",
    "\n",
    "print(np.sum(train_targets), train_data_size, np.sum(train_targets) / train_data_size)\n",
    "print(np.sum(validation_targets), validation_data_size, np.sum(validation_targets) / validation_data_size)"
   ]
  },
  {
   "cell_type": "code",
   "execution_count": 7,
   "metadata": {},
   "outputs": [],
   "source": [
    "np.savez('data_train', inputs = tarin_inputs, targets = train_targets)\n",
    "np.savez('data_validation', inputs = validation_inputs, targets = validation_targets)\n"
   ]
  }
 ],
 "metadata": {
  "kernelspec": {
   "display_name": "base",
   "language": "python",
   "name": "python3"
  },
  "language_info": {
   "codemirror_mode": {
    "name": "ipython",
    "version": 3
   },
   "file_extension": ".py",
   "mimetype": "text/x-python",
   "name": "python",
   "nbconvert_exporter": "python",
   "pygments_lexer": "ipython3",
   "version": "3.10.11"
  },
  "orig_nbformat": 4
 },
 "nbformat": 4,
 "nbformat_minor": 2
}
