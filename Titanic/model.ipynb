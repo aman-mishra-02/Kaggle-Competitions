{
 "cells": [
  {
   "cell_type": "code",
   "execution_count": 286,
   "metadata": {},
   "outputs": [],
   "source": [
    "import numpy as np\n",
    "import tensorflow as tf\n",
    "from sklearn import preprocessing"
   ]
  },
  {
   "cell_type": "code",
   "execution_count": 287,
   "metadata": {},
   "outputs": [],
   "source": [
    "npz = np.load('data_train.npz')\n",
    "\n",
    "train_inputs = npz['inputs']\n",
    "train_targets = npz['targets']\n",
    "\n",
    "npz = np.load('data_validation.npz')\n",
    "\n",
    "validation_inputs = npz['inputs']\n",
    "validation_targets = npz['targets']"
   ]
  },
  {
   "cell_type": "code",
   "execution_count": 288,
   "metadata": {},
   "outputs": [
    {
     "name": "stdout",
     "output_type": "stream",
     "text": [
      "Epoch 1/100\n",
      "8/8 - 1s - loss: 0.6462 - accuracy: 0.6754 - val_loss: 0.6153 - val_accuracy: 0.7444 - 627ms/epoch - 78ms/step\n",
      "Epoch 2/100\n",
      "8/8 - 0s - loss: 0.5994 - accuracy: 0.7054 - val_loss: 0.5771 - val_accuracy: 0.7333 - 61ms/epoch - 8ms/step\n",
      "Epoch 3/100\n",
      "8/8 - 0s - loss: 0.5621 - accuracy: 0.7378 - val_loss: 0.5476 - val_accuracy: 0.7333 - 63ms/epoch - 8ms/step\n",
      "Epoch 4/100\n",
      "8/8 - 0s - loss: 0.5335 - accuracy: 0.7441 - val_loss: 0.5247 - val_accuracy: 0.7222 - 57ms/epoch - 7ms/step\n",
      "Epoch 5/100\n",
      "8/8 - 0s - loss: 0.5118 - accuracy: 0.7453 - val_loss: 0.5071 - val_accuracy: 0.7222 - 54ms/epoch - 7ms/step\n",
      "Epoch 6/100\n",
      "8/8 - 0s - loss: 0.4952 - accuracy: 0.7541 - val_loss: 0.4938 - val_accuracy: 0.7333 - 55ms/epoch - 7ms/step\n",
      "Epoch 7/100\n",
      "8/8 - 0s - loss: 0.4826 - accuracy: 0.7640 - val_loss: 0.4835 - val_accuracy: 0.7778 - 55ms/epoch - 7ms/step\n",
      "Epoch 8/100\n",
      "8/8 - 0s - loss: 0.4728 - accuracy: 0.7690 - val_loss: 0.4764 - val_accuracy: 0.7556 - 55ms/epoch - 7ms/step\n",
      "Epoch 9/100\n",
      "8/8 - 0s - loss: 0.4653 - accuracy: 0.7728 - val_loss: 0.4711 - val_accuracy: 0.7667 - 52ms/epoch - 6ms/step\n",
      "Epoch 10/100\n",
      "8/8 - 0s - loss: 0.4597 - accuracy: 0.7765 - val_loss: 0.4667 - val_accuracy: 0.7889 - 52ms/epoch - 6ms/step\n",
      "Epoch 11/100\n",
      "8/8 - 0s - loss: 0.4557 - accuracy: 0.7803 - val_loss: 0.4636 - val_accuracy: 0.7889 - 55ms/epoch - 7ms/step\n",
      "Epoch 12/100\n",
      "8/8 - 0s - loss: 0.4517 - accuracy: 0.7815 - val_loss: 0.4624 - val_accuracy: 0.7889 - 53ms/epoch - 7ms/step\n",
      "Epoch 13/100\n",
      "8/8 - 0s - loss: 0.4486 - accuracy: 0.7853 - val_loss: 0.4612 - val_accuracy: 0.8333 - 59ms/epoch - 7ms/step\n",
      "Epoch 14/100\n",
      "8/8 - 0s - loss: 0.4456 - accuracy: 0.7840 - val_loss: 0.4600 - val_accuracy: 0.8333 - 58ms/epoch - 7ms/step\n",
      "Epoch 15/100\n",
      "8/8 - 0s - loss: 0.4433 - accuracy: 0.7815 - val_loss: 0.4598 - val_accuracy: 0.8333 - 112ms/epoch - 14ms/step\n",
      "Epoch 16/100\n",
      "8/8 - 0s - loss: 0.4411 - accuracy: 0.7765 - val_loss: 0.4594 - val_accuracy: 0.8111 - 54ms/epoch - 7ms/step\n",
      "Epoch 17/100\n",
      "8/8 - 0s - loss: 0.4394 - accuracy: 0.7778 - val_loss: 0.4594 - val_accuracy: 0.8222 - 54ms/epoch - 7ms/step\n"
     ]
    },
    {
     "data": {
      "text/plain": [
       "<keras.callbacks.History at 0x27d330269e0>"
      ]
     },
     "execution_count": 288,
     "metadata": {},
     "output_type": "execute_result"
    }
   ],
   "source": [
    "input_size = 5\n",
    "output_size = 2\n",
    "hidden_layer_size = 50\n",
    "\n",
    "model = tf.keras.Sequential([\n",
    "                            tf.keras.layers.Dense(hidden_layer_size, activation = 'relu'),\n",
    "                            tf.keras.layers.Dense(output_size,activation='softmax')\n",
    "                            ])\n",
    "\n",
    "model.compile(optimizer=\"adam\", loss='sparse_categorical_crossentropy', metrics=['accuracy'])\n",
    "\n",
    "batch_size = 101\n",
    "max_epochs = 100\n",
    "\n",
    "early_stopping = tf.keras.callbacks.EarlyStopping(patience=1)\n",
    "\n",
    "model.fit(train_inputs,\n",
    "          train_targets,\n",
    "          batch_size= batch_size,\n",
    "          epochs= max_epochs,\n",
    "          callbacks=[early_stopping],\n",
    "          validation_data=(validation_inputs,validation_targets),\n",
    "          verbose=2)"
   ]
  },
  {
   "cell_type": "code",
   "execution_count": 289,
   "metadata": {},
   "outputs": [],
   "source": [
    "raw_csv_data = np.loadtxt('test.csv', delimiter=',')\n",
    "\n",
    "unscaled_inputs_all = raw_csv_data[:,1:]"
   ]
  },
  {
   "cell_type": "code",
   "execution_count": 290,
   "metadata": {},
   "outputs": [],
   "source": [
    "scaled_inputs = preprocessing.scale(unscaled_inputs_all)"
   ]
  },
  {
   "cell_type": "code",
   "execution_count": 291,
   "metadata": {},
   "outputs": [],
   "source": [
    "np.savez('data_test', inputs = scaled_inputs)"
   ]
  },
  {
   "cell_type": "code",
   "execution_count": 292,
   "metadata": {},
   "outputs": [],
   "source": [
    "npz = np.load('data_test.npz')\n",
    "\n",
    "train_inputs = npz['inputs']"
   ]
  },
  {
   "cell_type": "code",
   "execution_count": 293,
   "metadata": {},
   "outputs": [
    {
     "name": "stdout",
     "output_type": "stream",
     "text": [
      "14/14 [==============================] - 0s 1ms/step\n"
     ]
    }
   ],
   "source": [
    "\n",
    "A = model.predict(train_inputs)"
   ]
  },
  {
   "cell_type": "code",
   "execution_count": 294,
   "metadata": {},
   "outputs": [],
   "source": [
    "o = np.asarray(A.round())\n",
    "\n",
    "\n",
    "\n",
    "\n"
   ]
  },
  {
   "cell_type": "code",
   "execution_count": 295,
   "metadata": {},
   "outputs": [],
   "source": [
    "np.savetxt(\"Submission_Raw.csv\", o, delimiter=\",\")"
   ]
  }
 ],
 "metadata": {
  "kernelspec": {
   "display_name": "py3tf2",
   "language": "python",
   "name": "python3"
  },
  "language_info": {
   "codemirror_mode": {
    "name": "ipython",
    "version": 3
   },
   "file_extension": ".py",
   "mimetype": "text/x-python",
   "name": "python",
   "nbconvert_exporter": "python",
   "pygments_lexer": "ipython3",
   "version": "3.10.11"
  },
  "orig_nbformat": 4
 },
 "nbformat": 4,
 "nbformat_minor": 2
}
