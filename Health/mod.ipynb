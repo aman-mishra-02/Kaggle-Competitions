{
 "cells": [
  {
   "cell_type": "code",
   "execution_count": 21,
   "metadata": {},
   "outputs": [],
   "source": [
    "import numpy as np\n",
    "import tensorflow as tf\n",
    "from sklearn import preprocessing"
   ]
  },
  {
   "cell_type": "code",
   "execution_count": 22,
   "metadata": {},
   "outputs": [],
   "source": [
    "npz = np.load('data_train.npz')\n",
    "\n",
    "train_inputs = npz['inputs']\n",
    "train_targets = npz['targets']\n",
    "\n",
    "npz = np.load('data_validation.npz')\n",
    "\n",
    "validation_inputs = npz['inputs']\n",
    "validation_targets = npz['targets']"
   ]
  },
  {
   "cell_type": "code",
   "execution_count": null,
   "metadata": {},
   "outputs": [],
   "source": []
  },
  {
   "cell_type": "code",
   "execution_count": 23,
   "metadata": {},
   "outputs": [
    {
     "name": "stdout",
     "output_type": "stream",
     "text": [
      "Epoch 1/1000\n",
      "1/1 - 1s - loss: 0.6511 - accuracy: 0.6689 - val_loss: 0.6702 - val_accuracy: 0.6545 - 639ms/epoch - 639ms/step\n",
      "Epoch 2/1000\n",
      "1/1 - 0s - loss: 0.6278 - accuracy: 0.6963 - val_loss: 0.6488 - val_accuracy: 0.6818 - 34ms/epoch - 34ms/step\n",
      "Epoch 3/1000\n",
      "1/1 - 0s - loss: 0.6056 - accuracy: 0.7192 - val_loss: 0.6286 - val_accuracy: 0.7273 - 33ms/epoch - 33ms/step\n",
      "Epoch 4/1000\n",
      "1/1 - 0s - loss: 0.5845 - accuracy: 0.7329 - val_loss: 0.6098 - val_accuracy: 0.7455 - 34ms/epoch - 34ms/step\n",
      "Epoch 5/1000\n",
      "1/1 - 0s - loss: 0.5644 - accuracy: 0.7420 - val_loss: 0.5921 - val_accuracy: 0.7364 - 87ms/epoch - 87ms/step\n",
      "Epoch 6/1000\n",
      "1/1 - 0s - loss: 0.5453 - accuracy: 0.7580 - val_loss: 0.5756 - val_accuracy: 0.7364 - 33ms/epoch - 33ms/step\n",
      "Epoch 7/1000\n",
      "1/1 - 0s - loss: 0.5272 - accuracy: 0.7694 - val_loss: 0.5601 - val_accuracy: 0.7364 - 34ms/epoch - 34ms/step\n",
      "Epoch 8/1000\n",
      "1/1 - 0s - loss: 0.5102 - accuracy: 0.7968 - val_loss: 0.5456 - val_accuracy: 0.7364 - 33ms/epoch - 33ms/step\n",
      "Epoch 9/1000\n",
      "1/1 - 0s - loss: 0.4940 - accuracy: 0.7991 - val_loss: 0.5321 - val_accuracy: 0.7545 - 32ms/epoch - 32ms/step\n",
      "Epoch 10/1000\n",
      "1/1 - 0s - loss: 0.4787 - accuracy: 0.8059 - val_loss: 0.5194 - val_accuracy: 0.7727 - 33ms/epoch - 33ms/step\n",
      "Epoch 11/1000\n",
      "1/1 - 0s - loss: 0.4642 - accuracy: 0.8128 - val_loss: 0.5076 - val_accuracy: 0.7818 - 34ms/epoch - 34ms/step\n",
      "Epoch 12/1000\n",
      "1/1 - 0s - loss: 0.4506 - accuracy: 0.8265 - val_loss: 0.4967 - val_accuracy: 0.7818 - 33ms/epoch - 33ms/step\n",
      "Epoch 13/1000\n",
      "1/1 - 0s - loss: 0.4378 - accuracy: 0.8311 - val_loss: 0.4864 - val_accuracy: 0.7818 - 34ms/epoch - 34ms/step\n",
      "Epoch 14/1000\n",
      "1/1 - 0s - loss: 0.4256 - accuracy: 0.8425 - val_loss: 0.4769 - val_accuracy: 0.7727 - 33ms/epoch - 33ms/step\n",
      "Epoch 15/1000\n",
      "1/1 - 0s - loss: 0.4142 - accuracy: 0.8447 - val_loss: 0.4679 - val_accuracy: 0.7818 - 34ms/epoch - 34ms/step\n",
      "Epoch 16/1000\n",
      "1/1 - 0s - loss: 0.4033 - accuracy: 0.8493 - val_loss: 0.4596 - val_accuracy: 0.7909 - 32ms/epoch - 32ms/step\n",
      "Epoch 17/1000\n",
      "1/1 - 0s - loss: 0.3930 - accuracy: 0.8516 - val_loss: 0.4517 - val_accuracy: 0.8000 - 32ms/epoch - 32ms/step\n",
      "Epoch 18/1000\n",
      "1/1 - 0s - loss: 0.3833 - accuracy: 0.8516 - val_loss: 0.4444 - val_accuracy: 0.7909 - 34ms/epoch - 34ms/step\n",
      "Epoch 19/1000\n",
      "1/1 - 0s - loss: 0.3740 - accuracy: 0.8562 - val_loss: 0.4375 - val_accuracy: 0.8273 - 33ms/epoch - 33ms/step\n",
      "Epoch 20/1000\n",
      "1/1 - 0s - loss: 0.3652 - accuracy: 0.8653 - val_loss: 0.4310 - val_accuracy: 0.8364 - 34ms/epoch - 34ms/step\n",
      "Epoch 21/1000\n",
      "1/1 - 0s - loss: 0.3569 - accuracy: 0.8721 - val_loss: 0.4249 - val_accuracy: 0.8364 - 35ms/epoch - 35ms/step\n",
      "Epoch 22/1000\n",
      "1/1 - 0s - loss: 0.3489 - accuracy: 0.8744 - val_loss: 0.4192 - val_accuracy: 0.8364 - 41ms/epoch - 41ms/step\n",
      "Epoch 23/1000\n",
      "1/1 - 0s - loss: 0.3413 - accuracy: 0.8767 - val_loss: 0.4138 - val_accuracy: 0.8364 - 35ms/epoch - 35ms/step\n",
      "Epoch 24/1000\n",
      "1/1 - 0s - loss: 0.3341 - accuracy: 0.8767 - val_loss: 0.4088 - val_accuracy: 0.8364 - 34ms/epoch - 34ms/step\n",
      "Epoch 25/1000\n",
      "1/1 - 0s - loss: 0.3272 - accuracy: 0.8767 - val_loss: 0.4041 - val_accuracy: 0.8364 - 34ms/epoch - 34ms/step\n",
      "Epoch 26/1000\n",
      "1/1 - 0s - loss: 0.3207 - accuracy: 0.8767 - val_loss: 0.3996 - val_accuracy: 0.8364 - 35ms/epoch - 35ms/step\n",
      "Epoch 27/1000\n",
      "1/1 - 0s - loss: 0.3145 - accuracy: 0.8767 - val_loss: 0.3954 - val_accuracy: 0.8364 - 36ms/epoch - 36ms/step\n",
      "Epoch 28/1000\n",
      "1/1 - 0s - loss: 0.3086 - accuracy: 0.8813 - val_loss: 0.3913 - val_accuracy: 0.8364 - 35ms/epoch - 35ms/step\n",
      "Epoch 29/1000\n",
      "1/1 - 0s - loss: 0.3029 - accuracy: 0.8813 - val_loss: 0.3875 - val_accuracy: 0.8364 - 34ms/epoch - 34ms/step\n",
      "Epoch 30/1000\n",
      "1/1 - 0s - loss: 0.2975 - accuracy: 0.8836 - val_loss: 0.3839 - val_accuracy: 0.8364 - 34ms/epoch - 34ms/step\n",
      "Epoch 31/1000\n",
      "1/1 - 0s - loss: 0.2923 - accuracy: 0.8904 - val_loss: 0.3805 - val_accuracy: 0.8364 - 33ms/epoch - 33ms/step\n",
      "Epoch 32/1000\n",
      "1/1 - 0s - loss: 0.2873 - accuracy: 0.8950 - val_loss: 0.3774 - val_accuracy: 0.8364 - 35ms/epoch - 35ms/step\n",
      "Epoch 33/1000\n",
      "1/1 - 0s - loss: 0.2825 - accuracy: 0.8973 - val_loss: 0.3744 - val_accuracy: 0.8455 - 35ms/epoch - 35ms/step\n",
      "Epoch 34/1000\n",
      "1/1 - 0s - loss: 0.2779 - accuracy: 0.8973 - val_loss: 0.3716 - val_accuracy: 0.8455 - 33ms/epoch - 33ms/step\n",
      "Epoch 35/1000\n",
      "1/1 - 0s - loss: 0.2735 - accuracy: 0.8995 - val_loss: 0.3690 - val_accuracy: 0.8455 - 34ms/epoch - 34ms/step\n",
      "Epoch 36/1000\n",
      "1/1 - 0s - loss: 0.2692 - accuracy: 0.8995 - val_loss: 0.3665 - val_accuracy: 0.8455 - 35ms/epoch - 35ms/step\n",
      "Epoch 37/1000\n",
      "1/1 - 0s - loss: 0.2650 - accuracy: 0.9018 - val_loss: 0.3642 - val_accuracy: 0.8455 - 34ms/epoch - 34ms/step\n",
      "Epoch 38/1000\n",
      "1/1 - 0s - loss: 0.2610 - accuracy: 0.9041 - val_loss: 0.3620 - val_accuracy: 0.8455 - 32ms/epoch - 32ms/step\n",
      "Epoch 39/1000\n",
      "1/1 - 0s - loss: 0.2571 - accuracy: 0.9041 - val_loss: 0.3600 - val_accuracy: 0.8545 - 33ms/epoch - 33ms/step\n",
      "Epoch 40/1000\n",
      "1/1 - 0s - loss: 0.2533 - accuracy: 0.9064 - val_loss: 0.3581 - val_accuracy: 0.8545 - 33ms/epoch - 33ms/step\n",
      "Epoch 41/1000\n",
      "1/1 - 0s - loss: 0.2496 - accuracy: 0.9064 - val_loss: 0.3563 - val_accuracy: 0.8636 - 33ms/epoch - 33ms/step\n",
      "Epoch 42/1000\n",
      "1/1 - 0s - loss: 0.2461 - accuracy: 0.9087 - val_loss: 0.3547 - val_accuracy: 0.8727 - 34ms/epoch - 34ms/step\n",
      "Epoch 43/1000\n",
      "1/1 - 0s - loss: 0.2426 - accuracy: 0.9087 - val_loss: 0.3531 - val_accuracy: 0.8727 - 34ms/epoch - 34ms/step\n",
      "Epoch 44/1000\n",
      "1/1 - 0s - loss: 0.2392 - accuracy: 0.9087 - val_loss: 0.3517 - val_accuracy: 0.8727 - 33ms/epoch - 33ms/step\n",
      "Epoch 45/1000\n",
      "1/1 - 0s - loss: 0.2360 - accuracy: 0.9110 - val_loss: 0.3503 - val_accuracy: 0.8727 - 35ms/epoch - 35ms/step\n",
      "Epoch 46/1000\n",
      "1/1 - 0s - loss: 0.2328 - accuracy: 0.9155 - val_loss: 0.3491 - val_accuracy: 0.8727 - 34ms/epoch - 34ms/step\n",
      "Epoch 47/1000\n",
      "1/1 - 0s - loss: 0.2296 - accuracy: 0.9155 - val_loss: 0.3479 - val_accuracy: 0.8727 - 34ms/epoch - 34ms/step\n",
      "Epoch 48/1000\n",
      "1/1 - 0s - loss: 0.2266 - accuracy: 0.9155 - val_loss: 0.3468 - val_accuracy: 0.8727 - 35ms/epoch - 35ms/step\n",
      "Epoch 49/1000\n",
      "1/1 - 0s - loss: 0.2236 - accuracy: 0.9224 - val_loss: 0.3458 - val_accuracy: 0.8727 - 36ms/epoch - 36ms/step\n",
      "Epoch 50/1000\n",
      "1/1 - 0s - loss: 0.2207 - accuracy: 0.9224 - val_loss: 0.3448 - val_accuracy: 0.8727 - 78ms/epoch - 78ms/step\n",
      "Epoch 51/1000\n",
      "1/1 - 0s - loss: 0.2179 - accuracy: 0.9224 - val_loss: 0.3439 - val_accuracy: 0.8727 - 57ms/epoch - 57ms/step\n",
      "Epoch 52/1000\n",
      "1/1 - 0s - loss: 0.2151 - accuracy: 0.9224 - val_loss: 0.3431 - val_accuracy: 0.8727 - 35ms/epoch - 35ms/step\n",
      "Epoch 53/1000\n",
      "1/1 - 0s - loss: 0.2124 - accuracy: 0.9201 - val_loss: 0.3422 - val_accuracy: 0.8727 - 35ms/epoch - 35ms/step\n",
      "Epoch 54/1000\n",
      "1/1 - 0s - loss: 0.2097 - accuracy: 0.9201 - val_loss: 0.3415 - val_accuracy: 0.8727 - 37ms/epoch - 37ms/step\n",
      "Epoch 55/1000\n",
      "1/1 - 0s - loss: 0.2071 - accuracy: 0.9224 - val_loss: 0.3408 - val_accuracy: 0.8727 - 36ms/epoch - 36ms/step\n",
      "Epoch 56/1000\n",
      "1/1 - 0s - loss: 0.2046 - accuracy: 0.9247 - val_loss: 0.3401 - val_accuracy: 0.8727 - 41ms/epoch - 41ms/step\n",
      "Epoch 57/1000\n",
      "1/1 - 0s - loss: 0.2021 - accuracy: 0.9315 - val_loss: 0.3395 - val_accuracy: 0.8727 - 37ms/epoch - 37ms/step\n",
      "Epoch 58/1000\n",
      "1/1 - 0s - loss: 0.1996 - accuracy: 0.9361 - val_loss: 0.3389 - val_accuracy: 0.8636 - 38ms/epoch - 38ms/step\n",
      "Epoch 59/1000\n",
      "1/1 - 0s - loss: 0.1972 - accuracy: 0.9361 - val_loss: 0.3383 - val_accuracy: 0.8636 - 37ms/epoch - 37ms/step\n",
      "Epoch 60/1000\n",
      "1/1 - 0s - loss: 0.1948 - accuracy: 0.9361 - val_loss: 0.3377 - val_accuracy: 0.8636 - 36ms/epoch - 36ms/step\n",
      "Epoch 61/1000\n",
      "1/1 - 0s - loss: 0.1925 - accuracy: 0.9361 - val_loss: 0.3372 - val_accuracy: 0.8636 - 35ms/epoch - 35ms/step\n",
      "Epoch 62/1000\n",
      "1/1 - 0s - loss: 0.1902 - accuracy: 0.9361 - val_loss: 0.3367 - val_accuracy: 0.8727 - 35ms/epoch - 35ms/step\n",
      "Epoch 63/1000\n",
      "1/1 - 0s - loss: 0.1879 - accuracy: 0.9361 - val_loss: 0.3361 - val_accuracy: 0.8727 - 33ms/epoch - 33ms/step\n",
      "Epoch 64/1000\n",
      "1/1 - 0s - loss: 0.1857 - accuracy: 0.9361 - val_loss: 0.3356 - val_accuracy: 0.8727 - 33ms/epoch - 33ms/step\n",
      "Epoch 65/1000\n",
      "1/1 - 0s - loss: 0.1835 - accuracy: 0.9384 - val_loss: 0.3352 - val_accuracy: 0.8727 - 36ms/epoch - 36ms/step\n",
      "Epoch 66/1000\n",
      "1/1 - 0s - loss: 0.1814 - accuracy: 0.9406 - val_loss: 0.3347 - val_accuracy: 0.8727 - 42ms/epoch - 42ms/step\n",
      "Epoch 67/1000\n",
      "1/1 - 0s - loss: 0.1793 - accuracy: 0.9406 - val_loss: 0.3342 - val_accuracy: 0.8727 - 37ms/epoch - 37ms/step\n",
      "Epoch 68/1000\n",
      "1/1 - 0s - loss: 0.1772 - accuracy: 0.9429 - val_loss: 0.3338 - val_accuracy: 0.8727 - 35ms/epoch - 35ms/step\n",
      "Epoch 69/1000\n",
      "1/1 - 0s - loss: 0.1752 - accuracy: 0.9429 - val_loss: 0.3334 - val_accuracy: 0.8727 - 33ms/epoch - 33ms/step\n",
      "Epoch 70/1000\n",
      "1/1 - 0s - loss: 0.1732 - accuracy: 0.9429 - val_loss: 0.3330 - val_accuracy: 0.8727 - 34ms/epoch - 34ms/step\n",
      "Epoch 71/1000\n",
      "1/1 - 0s - loss: 0.1713 - accuracy: 0.9429 - val_loss: 0.3327 - val_accuracy: 0.8727 - 37ms/epoch - 37ms/step\n",
      "Epoch 72/1000\n",
      "1/1 - 0s - loss: 0.1693 - accuracy: 0.9452 - val_loss: 0.3323 - val_accuracy: 0.8727 - 34ms/epoch - 34ms/step\n",
      "Epoch 73/1000\n",
      "1/1 - 0s - loss: 0.1674 - accuracy: 0.9452 - val_loss: 0.3320 - val_accuracy: 0.8727 - 35ms/epoch - 35ms/step\n",
      "Epoch 74/1000\n",
      "1/1 - 0s - loss: 0.1655 - accuracy: 0.9452 - val_loss: 0.3317 - val_accuracy: 0.8727 - 34ms/epoch - 34ms/step\n",
      "Epoch 75/1000\n",
      "1/1 - 0s - loss: 0.1637 - accuracy: 0.9452 - val_loss: 0.3314 - val_accuracy: 0.8727 - 34ms/epoch - 34ms/step\n",
      "Epoch 76/1000\n",
      "1/1 - 0s - loss: 0.1619 - accuracy: 0.9475 - val_loss: 0.3311 - val_accuracy: 0.8727 - 33ms/epoch - 33ms/step\n",
      "Epoch 77/1000\n",
      "1/1 - 0s - loss: 0.1601 - accuracy: 0.9475 - val_loss: 0.3308 - val_accuracy: 0.8727 - 34ms/epoch - 34ms/step\n",
      "Epoch 78/1000\n",
      "1/1 - 0s - loss: 0.1584 - accuracy: 0.9498 - val_loss: 0.3306 - val_accuracy: 0.8727 - 34ms/epoch - 34ms/step\n",
      "Epoch 79/1000\n",
      "1/1 - 0s - loss: 0.1567 - accuracy: 0.9498 - val_loss: 0.3304 - val_accuracy: 0.8727 - 34ms/epoch - 34ms/step\n",
      "Epoch 80/1000\n",
      "1/1 - 0s - loss: 0.1550 - accuracy: 0.9498 - val_loss: 0.3303 - val_accuracy: 0.8727 - 34ms/epoch - 34ms/step\n",
      "Epoch 81/1000\n",
      "1/1 - 0s - loss: 0.1533 - accuracy: 0.9498 - val_loss: 0.3301 - val_accuracy: 0.8727 - 35ms/epoch - 35ms/step\n",
      "Epoch 82/1000\n",
      "1/1 - 0s - loss: 0.1516 - accuracy: 0.9498 - val_loss: 0.3300 - val_accuracy: 0.8727 - 34ms/epoch - 34ms/step\n",
      "Epoch 83/1000\n",
      "1/1 - 0s - loss: 0.1500 - accuracy: 0.9498 - val_loss: 0.3299 - val_accuracy: 0.8727 - 34ms/epoch - 34ms/step\n",
      "Epoch 84/1000\n",
      "1/1 - 0s - loss: 0.1484 - accuracy: 0.9498 - val_loss: 0.3298 - val_accuracy: 0.8727 - 33ms/epoch - 33ms/step\n",
      "Epoch 85/1000\n",
      "1/1 - 0s - loss: 0.1468 - accuracy: 0.9521 - val_loss: 0.3297 - val_accuracy: 0.8727 - 34ms/epoch - 34ms/step\n",
      "Epoch 86/1000\n",
      "1/1 - 0s - loss: 0.1453 - accuracy: 0.9543 - val_loss: 0.3296 - val_accuracy: 0.8727 - 34ms/epoch - 34ms/step\n",
      "Epoch 87/1000\n",
      "1/1 - 0s - loss: 0.1438 - accuracy: 0.9543 - val_loss: 0.3295 - val_accuracy: 0.8727 - 73ms/epoch - 73ms/step\n",
      "Epoch 88/1000\n",
      "1/1 - 0s - loss: 0.1423 - accuracy: 0.9543 - val_loss: 0.3295 - val_accuracy: 0.8727 - 48ms/epoch - 48ms/step\n",
      "Epoch 89/1000\n",
      "1/1 - 0s - loss: 0.1408 - accuracy: 0.9543 - val_loss: 0.3295 - val_accuracy: 0.8727 - 34ms/epoch - 34ms/step\n",
      "Epoch 90/1000\n",
      "1/1 - 0s - loss: 0.1393 - accuracy: 0.9566 - val_loss: 0.3295 - val_accuracy: 0.8727 - 35ms/epoch - 35ms/step\n",
      "Epoch 91/1000\n",
      "1/1 - 0s - loss: 0.1378 - accuracy: 0.9566 - val_loss: 0.3295 - val_accuracy: 0.8727 - 34ms/epoch - 34ms/step\n"
     ]
    },
    {
     "data": {
      "text/plain": [
       "<keras.callbacks.History at 0x25ee7d3b220>"
      ]
     },
     "execution_count": 23,
     "metadata": {},
     "output_type": "execute_result"
    }
   ],
   "source": [
    "output_size = 2\n",
    "hidden_layer_size = 50\n",
    "\n",
    "model = tf.keras.Sequential([\n",
    "                            tf.keras.layers.Dense(hidden_layer_size, activation = 'relu'),                           \n",
    "                            tf.keras.layers.Dense(output_size,activation='softmax')\n",
    "                            ])\n",
    "\n",
    "model.compile(optimizer=\"adam\", loss='sparse_categorical_crossentropy', metrics=['accuracy'])\n",
    "\n",
    "batch_size = 1000\n",
    "max_epochs = 1000\n",
    "\n",
    "early_stopping = tf.keras.callbacks.EarlyStopping(patience=2)\n",
    "\n",
    "model.fit(train_inputs,\n",
    "          train_targets,\n",
    "          batch_size= batch_size,\n",
    "          epochs= max_epochs,\n",
    "          callbacks=[early_stopping],\n",
    "          validation_data=(validation_inputs,validation_targets),\n",
    "          verbose=2)"
   ]
  },
  {
   "cell_type": "code",
   "execution_count": 24,
   "metadata": {},
   "outputs": [],
   "source": [
    "npz = np.load('data_test.npz')\n",
    "\n",
    "test_inputs = npz['inputs']\n"
   ]
  },
  {
   "cell_type": "code",
   "execution_count": 37,
   "metadata": {},
   "outputs": [
    {
     "name": "stdout",
     "output_type": "stream",
     "text": [
      "1/1 [==============================] - 0s 37ms/step\n"
     ]
    },
    {
     "data": {
      "text/plain": [
       "array([[0.62836605, 0.37163392],\n",
       "       [0.62836605, 0.37163392],\n",
       "       [0.62836605, 0.37163392],\n",
       "       [0.62836605, 0.37163392],\n",
       "       [0.62836605, 0.37163392]], dtype=float32)"
      ]
     },
     "execution_count": 37,
     "metadata": {},
     "output_type": "execute_result"
    }
   ],
   "source": [
    "a= model.predict(test_inputs)\n",
    "a"
   ]
  },
  {
   "cell_type": "code",
   "execution_count": 38,
   "metadata": {},
   "outputs": [],
   "source": [
    "import pandas as pd\n",
    "test = pd.read_csv('test.csv')"
   ]
  },
  {
   "cell_type": "code",
   "execution_count": 39,
   "metadata": {},
   "outputs": [],
   "source": [
    "df2 = pd.DataFrame(a, columns =['class_0', 'class_1']) "
   ]
  },
  {
   "cell_type": "code",
   "execution_count": 40,
   "metadata": {},
   "outputs": [],
   "source": [
    "df2['Id'] = test['Id']\n"
   ]
  },
  {
   "cell_type": "code",
   "execution_count": 41,
   "metadata": {},
   "outputs": [
    {
     "data": {
      "text/plain": [
       "Index(['class_0', 'class_1', 'Id'], dtype='object')"
      ]
     },
     "execution_count": 41,
     "metadata": {},
     "output_type": "execute_result"
    }
   ],
   "source": [
    "df2.columns"
   ]
  },
  {
   "cell_type": "code",
   "execution_count": 42,
   "metadata": {},
   "outputs": [],
   "source": [
    "cols = ['Id', 'class_0', 'class_1']\n",
    "df2 = df2[cols]"
   ]
  },
  {
   "cell_type": "code",
   "execution_count": 45,
   "metadata": {},
   "outputs": [],
   "source": [
    "df2.to_csv('submission.csv',index=False)"
   ]
  }
 ],
 "metadata": {
  "kernelspec": {
   "display_name": "py3tf2",
   "language": "python",
   "name": "python3"
  },
  "language_info": {
   "codemirror_mode": {
    "name": "ipython",
    "version": 3
   },
   "file_extension": ".py",
   "mimetype": "text/x-python",
   "name": "python",
   "nbconvert_exporter": "python",
   "pygments_lexer": "ipython3",
   "version": "3.10.11"
  },
  "orig_nbformat": 4
 },
 "nbformat": 4,
 "nbformat_minor": 2
}
