{
 "cells": [
  {
   "cell_type": "code",
   "execution_count": 64,
   "metadata": {},
   "outputs": [],
   "source": [
    "import numpy as np\n",
    "import tensorflow as tf\n",
    "from sklearn import preprocessing"
   ]
  },
  {
   "cell_type": "code",
   "execution_count": 65,
   "metadata": {},
   "outputs": [],
   "source": [
    "npz = np.load('data_train.npz')\n",
    "\n",
    "train_inputs = npz['inputs']\n",
    "train_targets = npz['targets']\n",
    "\n",
    "npz = np.load('data_validation.npz')\n",
    "\n",
    "validation_inputs = npz['inputs']\n",
    "validation_targets = npz['targets']"
   ]
  },
  {
   "cell_type": "code",
   "execution_count": 66,
   "metadata": {},
   "outputs": [
    {
     "name": "stdout",
     "output_type": "stream",
     "text": [
      "Epoch 1/100\n",
      "110/110 - 1s - loss: 0.1083 - accuracy: 0.9843 - val_loss: 0.0817 - val_accuracy: 0.9839 - 1s/epoch - 10ms/step\n",
      "Epoch 2/100\n",
      "110/110 - 0s - loss: 0.0785 - accuracy: 0.9843 - val_loss: 0.0777 - val_accuracy: 0.9839 - 349ms/epoch - 3ms/step\n",
      "Epoch 3/100\n",
      "110/110 - 0s - loss: 0.0689 - accuracy: 0.9843 - val_loss: 0.0589 - val_accuracy: 0.9839 - 388ms/epoch - 4ms/step\n",
      "Epoch 4/100\n",
      "110/110 - 0s - loss: 0.0437 - accuracy: 0.9843 - val_loss: 0.0336 - val_accuracy: 0.9839 - 456ms/epoch - 4ms/step\n",
      "Epoch 5/100\n",
      "110/110 - 0s - loss: 0.0277 - accuracy: 0.9957 - val_loss: 0.0259 - val_accuracy: 0.9959 - 440ms/epoch - 4ms/step\n",
      "Epoch 6/100\n",
      "110/110 - 1s - loss: 0.0242 - accuracy: 0.9962 - val_loss: 0.0246 - val_accuracy: 0.9960 - 542ms/epoch - 5ms/step\n",
      "Epoch 7/100\n",
      "110/110 - 0s - loss: 0.0235 - accuracy: 0.9962 - val_loss: 0.0242 - val_accuracy: 0.9960 - 416ms/epoch - 4ms/step\n",
      "Epoch 8/100\n",
      "110/110 - 0s - loss: 0.0231 - accuracy: 0.9962 - val_loss: 0.0240 - val_accuracy: 0.9960 - 398ms/epoch - 4ms/step\n",
      "Epoch 9/100\n",
      "110/110 - 0s - loss: 0.0229 - accuracy: 0.9962 - val_loss: 0.0238 - val_accuracy: 0.9960 - 389ms/epoch - 4ms/step\n",
      "Epoch 10/100\n",
      "110/110 - 0s - loss: 0.0228 - accuracy: 0.9962 - val_loss: 0.0237 - val_accuracy: 0.9960 - 358ms/epoch - 3ms/step\n",
      "Epoch 11/100\n",
      "110/110 - 0s - loss: 0.0228 - accuracy: 0.9962 - val_loss: 0.0236 - val_accuracy: 0.9960 - 363ms/epoch - 3ms/step\n",
      "Epoch 12/100\n",
      "110/110 - 0s - loss: 0.0227 - accuracy: 0.9962 - val_loss: 0.0236 - val_accuracy: 0.9960 - 361ms/epoch - 3ms/step\n",
      "Epoch 13/100\n",
      "110/110 - 0s - loss: 0.0227 - accuracy: 0.9962 - val_loss: 0.0237 - val_accuracy: 0.9960 - 371ms/epoch - 3ms/step\n"
     ]
    },
    {
     "data": {
      "text/plain": [
       "<keras.callbacks.History at 0x1e296678eb0>"
      ]
     },
     "execution_count": 66,
     "metadata": {},
     "output_type": "execute_result"
    }
   ],
   "source": [
    "output_size = 2\n",
    "hidden_layer_size = 50\n",
    "\n",
    "model = tf.keras.Sequential([\n",
    "                            tf.keras.layers.Dense(hidden_layer_size, activation = 'sigmoid'),\n",
    "                            tf.keras.layers.Dense(hidden_layer_size, activation = 'sigmoid'),\n",
    "                            tf.keras.layers.Dense(hidden_layer_size, activation = 'sigmoid'),\n",
    "                            tf.keras.layers.Dense(hidden_layer_size, activation = 'sigmoid'),                            \n",
    "                            tf.keras.layers.Dense(output_size,activation='softmax')\n",
    "                            ])\n",
    "\n",
    "model.compile(optimizer=\"adam\", loss='sparse_categorical_crossentropy', metrics=['accuracy'])\n",
    "\n",
    "batch_size = 1000\n",
    "max_epochs = 100\n",
    "\n",
    "early_stopping = tf.keras.callbacks.EarlyStopping(patience=2)\n",
    "\n",
    "model.fit(train_inputs,\n",
    "          train_targets,\n",
    "          batch_size= batch_size,\n",
    "          epochs= max_epochs,\n",
    "          callbacks=[early_stopping],\n",
    "          validation_data=(validation_inputs,validation_targets),\n",
    "          verbose=2)"
   ]
  },
  {
   "cell_type": "code",
   "execution_count": 67,
   "metadata": {},
   "outputs": [],
   "source": [
    "raw_csv_data = np.loadtxt('test_file.csv', delimiter=',')\n",
    "\n",
    "unscaled_inputs_all = raw_csv_data[:,1:]"
   ]
  },
  {
   "cell_type": "code",
   "execution_count": 68,
   "metadata": {},
   "outputs": [],
   "source": [
    "scaled_inputs = preprocessing.scale(unscaled_inputs_all)"
   ]
  },
  {
   "cell_type": "code",
   "execution_count": 69,
   "metadata": {},
   "outputs": [],
   "source": [
    "np.savez('data_test', inputs = scaled_inputs)"
   ]
  },
  {
   "cell_type": "code",
   "execution_count": 70,
   "metadata": {},
   "outputs": [],
   "source": [
    "npz = np.load('data_test.npz')\n",
    "\n",
    "train_inputs = npz['inputs']"
   ]
  },
  {
   "cell_type": "code",
   "execution_count": 71,
   "metadata": {},
   "outputs": [
    {
     "name": "stdout",
     "output_type": "stream",
     "text": [
      "2843/2843 [==============================] - 4s 1ms/step\n"
     ]
    }
   ],
   "source": [
    "A = model.predict(train_inputs)"
   ]
  },
  {
   "cell_type": "code",
   "execution_count": 72,
   "metadata": {},
   "outputs": [],
   "source": [
    "o = np.asarray(A.round())"
   ]
  },
  {
   "cell_type": "code",
   "execution_count": 73,
   "metadata": {},
   "outputs": [],
   "source": [
    "np.savetxt(\"Submission_Raw.csv\", o, delimiter=\",\")"
   ]
  }
 ],
 "metadata": {
  "kernelspec": {
   "display_name": "py3tf2",
   "language": "python",
   "name": "python3"
  },
  "language_info": {
   "codemirror_mode": {
    "name": "ipython",
    "version": 3
   },
   "file_extension": ".py",
   "mimetype": "text/x-python",
   "name": "python",
   "nbconvert_exporter": "python",
   "pygments_lexer": "ipython3",
   "version": "3.10.11"
  },
  "orig_nbformat": 4
 },
 "nbformat": 4,
 "nbformat_minor": 2
}
